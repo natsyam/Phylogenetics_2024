{
  "nbformat": 4,
  "nbformat_minor": 0,
  "metadata": {
    "colab": {
      "provenance": []
    },
    "kernelspec": {
      "name": "python3",
      "display_name": "Python 3"
    },
    "language_info": {
      "name": "python"
    }
  },
  "cells": [
    {
      "cell_type": "code",
      "source": [
        "%%capture\n",
        "! pip install Bio;"
      ],
      "metadata": {
        "id": "Ho-pK50F4NDq"
      },
      "execution_count": 1,
      "outputs": []
    },
    {
      "cell_type": "markdown",
      "source": [
        "## **Age revealing**\n",
        "\n",
        "### **1. Mitochondrial Eve**\n",
        "I find it disconcerting that the age can vary greatly depending on how many mutations per year you put in.\n",
        "\n",
        "\n",
        "\n",
        "> The answer is near what it should look like so it's fine\n"
      ],
      "metadata": {
        "id": "tJVLXK3A4cKk"
      }
    },
    {
      "cell_type": "code",
      "execution_count": 2,
      "metadata": {
        "colab": {
          "base_uri": "https://localhost:8080/"
        },
        "id": "I737ZTHw4HUU",
        "outputId": "53572040-2ed4-4016-a36b-14056b71a185"
      },
      "outputs": [
        {
          "output_type": "stream",
          "name": "stdout",
          "text": [
            "Максимальное количество мутаций по сравнению с митохондриальной Евой: 96\n",
            "Идентификатор последовательности с максимальными мутациями: KX440262.1\n",
            "Оцененный возраст митохондриальной Евы по максимому: 192000 лет\n",
            "Оцененный возраст митохондриальной Евы по среднему: 170227 лет\n"
          ]
        }
      ],
      "source": [
        "from Bio import SeqIO\n",
        "\n",
        "#путь к FASTA файлу с выравниваниями\n",
        "alignment_file = \"/content/aligned.fasta\"\n",
        "\n",
        "# Идентификатор митохондриальной Евы\n",
        "#(взяли центральную Африку, так как эта ветка отделилась раньше если смотреть по дереву)\n",
        "reference_id = \"FJ713601.1\"\n",
        "\n",
        "# Скорость мутаций для всего митохондриального генома\n",
        "mutation_rate = 1 / 4000  # мутаций в год\n",
        "\n",
        "# Чтение файла FASTA\n",
        "sequences = {}\n",
        "for record in SeqIO.parse(alignment_file, \"fasta\"):\n",
        "    sequences[record.id] = str(record.seq)\n",
        "\n",
        "# Проверяем, что референсная последовательность есть в данных\n",
        "if reference_id not in sequences:\n",
        "    raise ValueError(f\"Reference sequence {reference_id} not found in the alignment file.\")\n",
        "\n",
        "# Референсная последовательность\n",
        "reference_seq = sequences[reference_id]\n",
        "\n",
        "# Проходим по всем последовательностям и считаем мутации\n",
        "mutation_counts = {}\n",
        "for seq_id, seq in sequences.items():\n",
        "    if seq_id == reference_id:\n",
        "        continue  # пропускаем референсную последовательность\n",
        "    # Считаем количество мутаций по сравнению с референсом\n",
        "    mutations = sum(1 for a, b in zip(reference_seq, seq) if a != b and a != '-' and b != '-')\n",
        "    mutation_counts[seq_id] = mutations\n",
        "\n",
        "# Находим максимальное и среднее количество мутаций\n",
        "max_mutations = max(mutation_counts.values())\n",
        "max_seq_id = max(mutation_counts, key=mutation_counts.get)\n",
        "mean_mutations = sum(mutation_counts.values())/len(mutation_counts.values())\n",
        "\n",
        "# Возраст = (количество мутаций) / (2 * скорость мутаций)\n",
        "# Умножаем скорость на 2, так как мутации происходят по обеим ветвям эволюции\n",
        "estimated_age_max = max_mutations / (2 * mutation_rate)\n",
        "estimated_age_mean = mean_mutations / (2 * mutation_rate)\n",
        "\n",
        "print(f\"Максимальное количество мутаций по сравнению с митохондриальной Евой: {max_mutations}\")\n",
        "print(f\"Идентификатор последовательности с максимальными мутациями: {max_seq_id}\")\n",
        "print(f\"Оцененный возраст митохондриальной Евы по максимому: {estimated_age_max:.0f} лет\")\n",
        "print(f\"Оцененный возраст митохондриальной Евы по среднему: {estimated_age_mean:.0f} лет\")"
      ]
    },
    {
      "cell_type": "markdown",
      "source": [
        "### **2. Recent Neanderthal-modern human ancestor**\n",
        "\n",
        "> The answer is near what I found on the Internet so it's fine"
      ],
      "metadata": {
        "id": "18-oHFoU5djc"
      }
    },
    {
      "cell_type": "code",
      "source": [
        "from Bio import SeqIO\n",
        "\n",
        "# Путь к FASTA файлу с выравниваниями\n",
        "alignment_file = \"/content/extended_alignment.fasta\"\n",
        "\n",
        "# Идентификатор неандертальца (один из)\n",
        "reference_id = \"KX198088\"\n",
        "\n",
        "# Идентификаторы, которые нужно исключить из анализа\n",
        "exclude_ids = {'KT780370', 'FN673705', 'FR695060', 'KX198088', 'KX198087', 'KX198086', 'KX198085', 'KX198084'}\n",
        "\n",
        "# Скорость мутаций\n",
        "mutation_rate = 1 / 4000  # мутаций в год\n",
        "\n",
        "# Чтение файла FASTA\n",
        "sequences = {}\n",
        "for record in SeqIO.parse(alignment_file, \"fasta\"):\n",
        "    sequences[record.id] = str(record.seq)\n",
        "\n",
        "# Проверяем, что референсная последовательность есть в данных\n",
        "if reference_id not in sequences:\n",
        "    raise ValueError(f\"Reference sequence {reference_id} not found in the alignment file.\")\n",
        "\n",
        "# Референсная последовательность\n",
        "reference_seq = sequences[reference_id]\n",
        "\n",
        "# Проходим по всем последовательностям и считаем мутации\n",
        "mutation_counts = {}\n",
        "for seq_id, seq in sequences.items():\n",
        "    # Пропускаем референсную последовательность и исключенные идентификаторы\n",
        "    if seq_id in exclude_ids:\n",
        "        continue\n",
        "    # Считаем количество мутаций по сравнению с референсом\n",
        "    mutations = sum(1 for a, b in zip(reference_seq, seq) if a != b and a != '-' and b != '-')\n",
        "    mutation_counts[seq_id] = mutations\n",
        "\n",
        "# Проверка, что остались последовательности для анализа после исключения\n",
        "if not mutation_counts:\n",
        "    raise ValueError(\"No sequences left for analysis after exclusion.\")\n",
        "\n",
        "# Находим максимальное и среднее количество мутаций\n",
        "max_mutations = max(mutation_counts.values())\n",
        "max_seq_id = max(mutation_counts, key=mutation_counts.get)\n",
        "\n",
        "# Возраст = (количество мутаций) / (2 * скорость мутаций)\n",
        "# Умножаем скорость на 2, так как мутации происходят по обеим ветвям эволюции\n",
        "estimated_age_max = max_mutations / (2 * mutation_rate)\n",
        "\n",
        "print(f\"Максимальное количество мутаций по сравнению с неандертальцем: {max_mutations}\")\n",
        "print(f\"Идентификатор последовательности с максимальными мутациями: {max_seq_id}\")\n",
        "print(f\"Оцененный возраст ближайшего к нам неандертальца: {estimated_age_max:.0f} лет\")"
      ],
      "metadata": {
        "colab": {
          "base_uri": "https://localhost:8080/"
        },
        "id": "7GfRhZIN5q_o",
        "outputId": "d8a259b9-9a7c-4181-b308-e633710f85d7"
      },
      "execution_count": 6,
      "outputs": [
        {
          "output_type": "stream",
          "name": "stdout",
          "text": [
            "Максимальное количество мутаций по сравнению с неандертальцем: 218\n",
            "Идентификатор последовательности с максимальными мутациями: KX440262.1\n",
            "Оцененный возраст ближайшего к нам неандертальца: 436000 лет\n"
          ]
        }
      ]
    }
  ]
}